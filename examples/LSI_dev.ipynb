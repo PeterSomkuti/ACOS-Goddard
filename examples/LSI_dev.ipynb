{
 "cells": [
  {
   "cell_type": "markdown",
   "id": "a83d75fe-aab1-4979-b32d-c5aa7319ad78",
   "metadata": {},
   "source": [
    "# Notebook to test the LSI implementation"
   ]
  },
  {
   "cell_type": "code",
   "execution_count": null,
   "id": "8cf36142-cf54-4a40-b294-6e89aad03511",
   "metadata": {},
   "outputs": [],
   "source": [
    "using BenchmarkTools\n",
    "using PyPlot"
   ]
  },
  {
   "cell_type": "code",
   "execution_count": null,
   "id": "8eae4900-286a-4e10-8442-b4cd6301ee16",
   "metadata": {},
   "outputs": [],
   "source": [
    "cd(\"../\")\n",
    "# Let us observe the progress during the RT computations\n",
    "ENV[\"XRTM_PROGRESS\"] = \"1\"\n",
    "\n",
    "# For good font rendering, we suggest installing the \"JuliaMono\" font\n",
    "# which provides full support for the various Unicode glyphs.\n",
    "ENV[\"GKS_FONTPATH\"] = \"~/Library/Fonts/\""
   ]
  },
  {
   "cell_type": "code",
   "execution_count": null,
   "id": "3ebea290-3c2e-45d8-905e-d47c7e895ad9",
   "metadata": {},
   "outputs": [],
   "source": [
    "Nhigh = 16\n",
    "\n",
    "hmo1 = Dict()\n",
    "hmo1[\"solvers\"] = [\"single\"]\n",
    "hmo1[\"add\"] = true\n",
    "hmo1[\"streams\"] = Nhigh\n",
    "hmo1[\"options\"] = [\n",
    "    \"output_at_levels\",\n",
    "    \"calc_derivs\",\n",
    "    \"source_solar\",\n",
    "    \"vector\",\n",
    "    \"psa\",\n",
    "    \"sfi\",\n",
    "    ]\n",
    "\n",
    "#push!(hmo1[\"options\"], \"delta_m\")\n",
    "#push!(hmo1[\"options\"], \"n_t_tms\")\n",
    "\n",
    "\n",
    "hmo2 = Dict()\n",
    "hmo2[\"solvers\"] = [\"two_os\"]\n",
    "hmo2[\"add\"] = true\n",
    "hmo2[\"streams\"] = Nhigh\n",
    "hmo2[\"options\"] = [\n",
    "    \"output_at_levels\",\n",
    "    \"calc_derivs\",\n",
    "    \"source_solar\",\n",
    "    \"vector\",\n",
    "    \"psa\",\n",
    "    \"sfi\",\n",
    "]\n",
    "\n",
    "hmo3 = Dict()\n",
    "hmo3[\"solvers\"] = [\"eig_bvp\"]\n",
    "hmo3[\"add\"] = true\n",
    "hmo3[\"streams\"] = Nhigh\n",
    "hmo3[\"options\"] = [\n",
    "    \"output_at_levels\",\n",
    "    \"calc_derivs\",\n",
    "    \"source_solar\",\n",
    "    \"psa\",\n",
    "    \"sfi\",\n",
    "    ]\n",
    "\n",
    "#push!(hmo3[\"options\"], \"delta_m\")\n",
    "#push!(hmo3[\"options\"], \"n_t_tms\")\n",
    "\n",
    "high_options = [\n",
    "    hmo1,\n",
    "    hmo2,\n",
    "    hmo3\n",
    "]\n"
   ]
  },
  {
   "cell_type": "code",
   "execution_count": null,
   "id": "92cc994c-42ef-4fce-9e02-a4c338313d5f",
   "metadata": {},
   "outputs": [],
   "source": [
    "# Define command-line arguments\n",
    "my_args = [\n",
    "    \"--solar_model\",  \"./example_data/l2_solar_model.h5\", # Path to the solar model file\n",
    "    \"--L1b\", \"./example_data/2021030111564431_inputs.h5\", # Path to the L1B data location\n",
    "    \"--L2Met\", \"./example_data/2021030111564431_inputs.h5\", # Path to the L2Met data location\n",
    "    \"--L2CPr\", \"./example_data/2021030111564431_inputs.h5\", # Path to the L2CPr data location\n",
    "    #######################################################\n",
    "    \"--sounding_id\", \"2021030111564431\", # Sounding ID to retrieve\n",
    "    \"--spec\", \"1\", # Which spectra to retrieve? 1 = O2-A, 2 = Weak CO2 (1.6 µm), 3 = Strong CO2 (2.06 µm)\n",
    "    \"--aerosols\", \"true\", # Have aerosols in the atmopshere?\n",
    "    \"--retrieve_aerosols\", \"false\", # Retrieve aerosol parameters? (AOD, height, width)\n",
    "    \"--LSI\", \"false\",\n",
    "    \"--o2_scale\", \"1.0048\", # Spectroscopy scaling factor for Oxygen\n",
    "    \"--co2_scale_weak\", \"0.994\", # Spectroscopy scaling factor for CO2 for the weak CO2 band\n",
    "    \"--co2_scale_strong\", \"0.998\", # Spectroscopy scaling factor for CO2 for the strong CO2 band\n",
    "    \"--gamma\", \"1000.0\", # Levenberg-Marquardt γ parameter (to avoid diverging steps, we make this large)\n",
    "    \"--dsigma_scale\", \"2.0\", # dσ^2 ~ a parameter that controls convergence\n",
    "    \"--max_iterations\", \"0\", # Number of maximal iterations\n",
    "    \"--output\", \"2021030111564431.h5\", # Name of the output file\n",
    "]\n",
    "\n",
    "# Get rid of existing command line arguments\n",
    "empty!(ARGS)\n",
    "\n",
    "# Push them in\n",
    "for a in my_args\n",
    "    push!(ARGS, a)\n",
    "end\n",
    "\n",
    "buf, solver, fm_kwargs = include(\"./run.jl\");"
   ]
  },
  {
   "cell_type": "code",
   "execution_count": null,
   "id": "ecb978c1-6ef6-4469-af11-7e3758ed1abf",
   "metadata": {},
   "outputs": [],
   "source": [
    "swin = buf.spectral_window[1]\n",
    "rt = buf.rt[swin]\n",
    "low_options = deepcopy(rt.model_options)"
   ]
  },
  {
   "cell_type": "code",
   "execution_count": null,
   "id": "6d06301e-49ec-4fe2-b506-929cc631afe9",
   "metadata": {},
   "outputs": [],
   "source": [
    "calculate_earth_optical_properties!(\n",
    "    rt.optical_properties,\n",
    "    rt.scene,\n",
    "    solver.state_vector\n",
    "    )"
   ]
  },
  {
   "cell_type": "code",
   "execution_count": null,
   "id": "1c224c23-d8a4-4c8e-a5c9-cc1a63aa54cd",
   "metadata": {},
   "outputs": [],
   "source": [
    "LSI_bounds = [\n",
    "            0, 0.001, 0.01, 0.05, 0.1, 0.15, 0.225, 0.338, 0.508,\n",
    "            0.7, 0.85, 1, 1.15, 1.4, 1.719, 2.581, 3.875, 5.817,\n",
    "            8.733, 13, 20, 30, 44, 70, 100, 200, 300, 1e+06\n",
    "        ];"
   ]
  },
  {
   "cell_type": "code",
   "execution_count": null,
   "id": "830921fc-b9be-4ecc-ae97-68df102b06fd",
   "metadata": {},
   "outputs": [],
   "source": [
    "length(LSI_bounds) - 1"
   ]
  },
  {
   "cell_type": "code",
   "execution_count": null,
   "id": "91b39c8d-ff05-4878-ae4b-a8f91ddaa85a",
   "metadata": {},
   "outputs": [],
   "source": [
    "empty!(rt.model_options);\n",
    "for mo in high_options\n",
    "    push!(rt.model_options, mo)\n",
    "end"
   ]
  },
  {
   "cell_type": "code",
   "execution_count": null,
   "id": "b44247a4-b55e-41e5-8628-789be92a3112",
   "metadata": {},
   "outputs": [],
   "source": [
    "# Calculate high-res run\n",
    "@time solver.forward_model(solver.state_vector; fm_kwargs...)"
   ]
  },
  {
   "cell_type": "code",
   "execution_count": null,
   "id": "e6825e2b-e735-483a-bf02-e21c75ed3437",
   "metadata": {},
   "outputs": [],
   "source": [
    "full_rt = deepcopy(rt.hires_radiance);"
   ]
  },
  {
   "cell_type": "code",
   "execution_count": null,
   "id": "1b0be043-f51b-4cef-8ac7-4308a70a1991",
   "metadata": {},
   "outputs": [],
   "source": [
    "empty!(rt.model_options);\n",
    "mo1 = Dict()\n",
    "mo2 = Dict()\n",
    "\n",
    "mo1[\"solvers\"] = [\"single\"]\n",
    "mo1[\"add\"] = true\n",
    "mo1[\"streams\"] = 2\n",
    "mo1[\"options\"] = [\n",
    "    \"output_at_levels\",\n",
    "    #\"calc_derivs\",\n",
    "    \"source_solar\",\n",
    "    \"vector\",\n",
    "    \"psa\",\n",
    "    \"sfi\",\n",
    "    ]\n",
    "\n",
    "\n",
    "mo2[\"solvers\"] = [\"two_stream\"]\n",
    "mo2[\"add\"] = true\n",
    "mo2[\"streams\"] = 2\n",
    "mo2[\"options\"] = [\n",
    "    \"output_at_levels\",\n",
    "    #\"calc_derivs\",\n",
    "    \"source_solar\",\n",
    "    \"psa\",\n",
    "    \"sfi\"\n",
    "    ]\n",
    "\n",
    "push!(rt.model_options, mo1)\n",
    "push!(rt.model_options, mo2)"
   ]
  },
  {
   "cell_type": "code",
   "execution_count": null,
   "id": "687b554a-0e64-4a9f-bd57-5b36d6e9b116",
   "metadata": {},
   "outputs": [],
   "source": [
    "@time solver.forward_model(solver.state_vector; fm_kwargs...)\n",
    "low_rt = deepcopy(rt.hires_radiance);"
   ]
  },
  {
   "cell_type": "code",
   "execution_count": null,
   "id": "2fe32fcd-bb9b-4998-af01-2dfc8c74251d",
   "metadata": {},
   "outputs": [],
   "source": [
    "begin \n",
    "    @time lsi = LSIRTMethod(\n",
    "        LSI_bounds,\n",
    "        rt,\n",
    "        high_options\n",
    "    )\n",
    "    @time perform_LSI_correction!(lsi)\n",
    "end"
   ]
  },
  {
   "cell_type": "code",
   "execution_count": null,
   "id": "7bbfd686-321f-486d-8567-f260e728826f",
   "metadata": {},
   "outputs": [],
   "source": [
    "plt.plot(full_rt.S[:,1]);\n",
    "plt.plot(low_rt.S[:,1]);\n",
    "plt.plot(rt.hires_radiance.S[:,1], \"k--\")"
   ]
  },
  {
   "cell_type": "code",
   "execution_count": null,
   "id": "0374502f-1e45-44dc-b97a-773774a1653e",
   "metadata": {},
   "outputs": [],
   "source": [
    "plt.plot(rt.hires_radiance.S[:,1] .- full_rt.S[:,1])"
   ]
  },
  {
   "cell_type": "code",
   "execution_count": null,
   "id": "7d74543f-1bd4-45f7-84cc-368d35a25c5e",
   "metadata": {},
   "outputs": [],
   "source": [
    "lsi.bin_rad_lo[1,1]"
   ]
  },
  {
   "cell_type": "code",
   "execution_count": null,
   "id": "dc274c2f-bf4a-48fc-a874-5024b738fea8",
   "metadata": {},
   "outputs": [],
   "source": [
    "lsi.bin_edge_rad_lo[1,1] .* 20000"
   ]
  },
  {
   "cell_type": "code",
   "execution_count": null,
   "id": "75656752-7f7d-40b1-981e-9014d9bdc120",
   "metadata": {},
   "outputs": [],
   "source": [
    "calculate_binned_properties!(lsi, 1, 1, false);\n",
    "lsi.RT_bin.optical_properties.total_tau[1,:]"
   ]
  },
  {
   "cell_type": "code",
   "execution_count": null,
   "id": "01f85eec-9c98-44d0-baf3-850098ded9e6",
   "metadata": {},
   "outputs": [],
   "source": [
    "calculate_binned_properties!(lsi, 1, 1, true);\n",
    "clear!(lsi.RT_bin_edge)\n",
    "for mo in high_options\n",
    "    RE._calculate_radiances_and_wfs_XRTM!(lsi.RT_bin_edge, lsi.RT_bin_edge.scene.observer, mo)\n",
    "end\n",
    "lsi.RT_bin_edge.hires_radiance"
   ]
  },
  {
   "cell_type": "code",
   "execution_count": null,
   "id": "c896c456-6236-4e71-a981-b140dbe7c087",
   "metadata": {},
   "outputs": [],
   "source": [
    "calculate_binned_properties!(lsi, 1, 1, false);\n",
    "clear!(lsi.RT_bin)\n",
    "for mo in high_options\n",
    "    RE._calculate_radiances_and_wfs_XRTM!(lsi.RT_bin, lsi.RT_bin.scene.observer, mo)\n",
    "end\n",
    "lsi.RT_bin.hires_radiance"
   ]
  },
  {
   "cell_type": "code",
   "execution_count": null,
   "id": "d09c3c73-1d37-4c64-939c-e3a872dd7d72",
   "metadata": {},
   "outputs": [],
   "source": [
    "lsi.RT_bin_edge.optical_properties.spectral_window.ww_grid"
   ]
  },
  {
   "cell_type": "code",
   "execution_count": null,
   "id": "dbc846ac-094e-4309-b2fa-6ff5edeb7ede",
   "metadata": {},
   "outputs": [],
   "source": [
    "lsi.RT_bin.optical_properties.spectral_window.ww_grid"
   ]
  },
  {
   "cell_type": "code",
   "execution_count": null,
   "id": "f90bef98-6084-47d6-9b4b-32f9eb954d7b",
   "metadata": {},
   "outputs": [],
   "source": []
  }
 ],
 "metadata": {
  "kernelspec": {
   "display_name": "Julia 1.11.1",
   "language": "julia",
   "name": "julia-1.11"
  },
  "language_info": {
   "file_extension": ".jl",
   "mimetype": "application/julia",
   "name": "julia"
  }
 },
 "nbformat": 4,
 "nbformat_minor": 5
}
