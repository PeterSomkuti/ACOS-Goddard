{
 "cells": [
  {
   "cell_type": "markdown",
   "id": "b24c28a6-e23f-4e69-b9c3-8cc148718cba",
   "metadata": {},
   "source": [
    "# Fit example\n",
    "\n",
    "This notebook is the most basic demonstration of running a single retrieval and plotting some relevant quantities."
   ]
  },
  {
   "cell_type": "code",
   "execution_count": null,
   "id": "46db374e-d6e6-4f15-b464-c4ba21e827ba",
   "metadata": {},
   "outputs": [],
   "source": [
    "cd(\"../\")"
   ]
  },
  {
   "cell_type": "code",
   "execution_count": null,
   "id": "680d71e3-bd28-4070-acd3-b6159fe7dce2",
   "metadata": {},
   "outputs": [],
   "source": [
    "# Let us observe the progress during the RT computations\n",
    "ENV[\"XRTM_PROGRESS\"] = \"1\"\n",
    "\n",
    "# For good font rendering, we suggest installing the \"JuliaMono\" font\n",
    "# which provides full support for the various Unicode glyphs.\n",
    "ENV[\"GKS_FONTPATH\"] = \"~/Library/Fonts/\""
   ]
  },
  {
   "cell_type": "code",
   "execution_count": null,
   "id": "5fb17112-5221-407a-9954-e026bc48c81d",
   "metadata": {},
   "outputs": [],
   "source": [
    "# Load these modules ahead of running the application\n",
    "using Plots, LaTeXStrings\n",
    "gr()"
   ]
  },
  {
   "cell_type": "code",
   "execution_count": null,
   "id": "34f2386f-d5b8-4816-a38a-a902ba485857",
   "metadata": {},
   "outputs": [],
   "source": [
    "Plots.default()\n",
    "\n",
    "Plots.default(\n",
    "    fontfamily = \"JuliaMono-Regular\",\n",
    "    titlefont = (10, \"JuliaMono-Regular\"),\n",
    "    legendfont = (8, \"JuliaMono-Regular\"),\n",
    "    guidefont = (8, \"JuliaMono-Regular\", :black),\n",
    "    tickfont = (8, \"JuliaMono-Regular\", :black),\n",
    "    rightmargin=5Plots.mm,\n",
    "    leftmargin=5Plots.mm,\n",
    "    bottommargin=5Plots.mm\n",
    ")"
   ]
  },
  {
   "cell_type": "code",
   "execution_count": null,
   "id": "9f865bda-ee84-4298-bfda-36e8a5f1077e",
   "metadata": {},
   "outputs": [],
   "source": [
    "# Define command-line arguments\n",
    "my_args = [\n",
    "    \"--solar_model\",  \"./example_data/l2_solar_model.h5\", # Path to the solar model file\n",
    "    \"--L1b\", \"./example_data/2021030111564431_inputs.h5\", # Path to the L1B data location\n",
    "    \"--L2Met\", \"./example_data/2021030111564431_inputs.h5\", # Path to the L2Met data location\n",
    "    \"--L2CPr\", \"./example_data/2021030111564431_inputs.h5\", # Path to the L2CPr data location\n",
    "    #######################################################\n",
    "    \"--sounding_id\", \"2021030111564431\", # Sounding ID to retrieve\n",
    "    \"--spec\", \"1,2,3\", # Which spectra to retrieve? 1 = O2-A, 2 = Weak CO2 (1.6 µm), 3 = Strong CO2 (2.06 µm)\n",
    "    \"--polarized\", \"true\", # Include polarization (needed for proper OCO-2/3)?\n",
    "    \"--LSI\", \"true\", # Use LSI for multiple scattering acceleration?\n",
    "    \"--aerosols\", \"true\", # Include aerosols in atmosphere?\n",
    "    \"--retrieve_aerosols\", \"true\", # Co-retrieve aerosol parameters? (height, width, AOD)\n",
    "    \"--o2_scale\", \"1.0048\", # Spectroscopy scaling factor for Oxygen\n",
    "    \"--co2_scale_weak\", \"0.994\", # Spectroscopy scaling factor for CO2 for the weak CO2 band\n",
    "    \"--co2_scale_strong\", \"0.998\", # Spectroscopy scaling factor for CO2 for the strong CO2 band\n",
    "    \"--gamma\", \"100.0\", # Levenberg-Marquardt γ parameter (to avoid diverging steps, we make this large)\n",
    "    \"--dsigma_scale\", \"3.0\", # dσ^2 ~ a parameter that controls convergence\n",
    "    \"--max_iterations\", \"10\", # Number of maximal iterations\n",
    "    \"--output\", \"2021030111564431.h5\", # Name of the output file\n",
    "]\n",
    "\n",
    "# Get rid of existing command line arguments\n",
    "empty!(ARGS)\n",
    "\n",
    "# Push them in\n",
    "for a in my_args\n",
    "    push!(ARGS, a)\n",
    "end\n",
    "\n",
    "# Run the retrieval and return the Buffer and Solver objects! \n",
    "# (Note! This will take several minutes)\n",
    "buf, solver, fm_kwargs = include(\"./run.jl\");"
   ]
  },
  {
   "cell_type": "code",
   "execution_count": null,
   "id": "6c8d58b7-39a8-4986-8b3f-97743b3d7bb2",
   "metadata": {},
   "outputs": [],
   "source": [
    "K = create_K_from_solver(solver);\n",
    "Sa = solver.prior_covariance;\n",
    "Se = create_Se_from_solver(solver);\n",
    "Fx = get_modeled(solver);\n",
    "y = get_measured(solver);\n",
    "x = get_current_value(solver.state_vector);\n",
    "xa = get_prior_value(solver.state_vector);\n",
    "\n",
    "J_measurement = dot(y - Fx, inv(Se) * (y - Fx));\n",
    "J_prior = dot(x - xa, inv(Sa) * (x - xa));\n",
    "\n",
    "@printf \"J_measurment: %.2f, J_prior: %.2f\" J_measurement  J_prior"
   ]
  },
  {
   "cell_type": "markdown",
   "id": "5819e872-84f7-4230-a7fb-e5141f875b98",
   "metadata": {},
   "source": [
    "## Plot the multi-band fit as the inversion sees it"
   ]
  },
  {
   "cell_type": "code",
   "execution_count": null,
   "id": "9a6016e4-0b9a-4604-b4f1-8437e7c4b476",
   "metadata": {},
   "outputs": [],
   "source": [
    "# This grabs the measured and modeled radiances\n",
    "measured = get_measured(solver);\n",
    "modelled = get_modeled(solver);\n",
    "\n",
    "# Plot the multi-band fit\n",
    "Plots.plot(measured, size=(900, 500), linewidth=2, label=\"Measured\", leftmargin=5Plots.mm, rightmargin=5Plots.mm);\n",
    "Plots.plot!(modelled, linestyle=:dash, label=\"Fit\")\n",
    "Plots.xlabel!(\"Spectral sample #\");\n",
    "Plots.ylabel!(\"Radiance\\n[ph μm⁻¹ m⁻² s⁻¹ sr⁻¹]\");\n",
    "Plots.title!(\"3-Band Fit\")"
   ]
  },
  {
   "cell_type": "markdown",
   "id": "2bf0084d-d27f-449e-bafd-a1795179ec8f",
   "metadata": {},
   "source": [
    "## Closer look at the individual spectral windows and their spectral residuals"
   ]
  },
  {
   "cell_type": "code",
   "execution_count": null,
   "id": "5710348b-2797-4a77-9e8f-f7bc45686459",
   "metadata": {},
   "outputs": [],
   "source": [
    "# Loop through each spectral window\n",
    "for swin in buf.spectral_window\n",
    "\n",
    "    # \n",
    "    rt = buf.rt[swin];\n",
    "\n",
    "    # For this spectral window, grab the wavelenght, measured radiance, model radiance,\n",
    "    # and noise-equivalent radiances. These will the vectors of the same length that can\n",
    "    # be used for plotting.\n",
    "    wavelength = get_wavelength(solver, swin);\n",
    "    measured = get_measured(solver, swin);\n",
    "    modeled = get_modeled(solver, swin);\n",
    "    noise = get_noise(solver, swin);\n",
    "\n",
    "    # We calculate the relative residuals\n",
    "    resid = @. (modeled - measured) / noise;\n",
    "\n",
    "    # Create a two-panel plot\n",
    "    \n",
    "    # First plot - measured and modeled radiance\n",
    "    p1 = Plots.plot(wavelength, measured, label=\"Measured\", linewidth=2,\n",
    "        leftmargin=5Plots.mm, rightmargin=5Plots.mm, bottommargin=5Plots.mm, size=(800, 500));\n",
    "    Plots.plot!(wavelength, modeled, label=\"Fit\", linestyle=:dash)\n",
    "    Plots.ylabel!(\"Radiance\\n[$(rt.radiance_unit)]\")\n",
    "    \n",
    "    # Second plot - radiance residuals\n",
    "    p2 = Plots.plot(wavelength, resid, label=\"Residual\", linewidth=2,\n",
    "        leftmargin=5Plots.mm, rightmargin=5Plots.mm, bottommargin=5Plots.mm);\n",
    "    Plots.xlabel!(\"Wavelength [$(swin.ww_unit)]\")\n",
    "    Plots.ylabel!(\"Residual\\n(fraction of noise)\")\n",
    "    disp_plot = plot(p1, p2, layout=(2, 1))\n",
    "    display(disp_plot)\n",
    "    \n",
    "end"
   ]
  },
  {
   "cell_type": "markdown",
   "id": "b4d276c3-a180-4e40-9199-746277571ccc",
   "metadata": {},
   "source": [
    "## Posterior analysis"
   ]
  },
  {
   "cell_type": "code",
   "execution_count": null,
   "id": "c9cd93c8-42c9-4a8a-9599-f28bb1577491",
   "metadata": {},
   "outputs": [],
   "source": [
    "calculate_xgas(buf.scene.atmosphere)"
   ]
  },
  {
   "cell_type": "code",
   "execution_count": null,
   "id": "585ed396-d2f1-4fba-ac4b-667f00b1c85b",
   "metadata": {},
   "outputs": [],
   "source": [
    "# Calculate optimal estimation-related quantities..\n",
    "q = calculate_OE_quantities(solver);"
   ]
  },
  {
   "cell_type": "code",
   "execution_count": null,
   "id": "29e8f582-41e3-4e8b-992b-9d4cd015e586",
   "metadata": {},
   "outputs": [],
   "source": [
    "# Do a correlation matrix based on posterior covariance\n",
    "C = similar(q.Shat);\n",
    "for idx in CartesianIndices(C)\n",
    "    i, j = idx.I\n",
    "\n",
    "    C[i,j] = q.Shat[i,j] / sqrt(q.Shat[i,i] * q.Shat[j,j])\n",
    "\n",
    "end\n",
    "\n",
    "Plots.heatmap(C, yflip=true, clims=(-1,1), c=:RdBu_5,\n",
    "    rightmargin=20Plots.mm,\n",
    "    colorbar_title=\" \\n\\nCorrelation coefficient\", colorbar_titlefont=(8, \"JuliaMono-Regular\"))\n",
    "Plots.xlabel!(\"State vector element\")\n",
    "Plots.ylabel!(\"State vector element\")"
   ]
  },
  {
   "cell_type": "code",
   "execution_count": null,
   "id": "49de552f-a26e-49c7-bdcd-b447af616a5c",
   "metadata": {},
   "outputs": [],
   "source": [
    "#=\n",
    "    Calculate and plot the XCO2 averaging kernel (normalized)\n",
    "=#\n",
    "\n",
    "# Get the state vector indices for the CO2 profile\n",
    "for atm in buf.scene.atmosphere.atm_elements\n",
    "    if atm isa GasAbsorber && atm.gas_name == \"CO2\"\n",
    "        global gas_co2 = atm\n",
    "    end\n",
    "end\n",
    "\n",
    "idx = idx_for_profile_sve(gas_co2, solver.state_vector)\n",
    "\n",
    "# Pressure weights\n",
    "h = create_pressure_weights(buf.scene.atmosphere);\n",
    "# Calculate the normalized averaging kernel\n",
    "ak_norm = (h' * q.AK[idx,idx])' ./ h\n",
    "\n",
    "# Plot it!\n",
    "Plots.plot(\n",
    "    ak_norm,\n",
    "    buf.scene.atmosphere.pressure_levels,\n",
    "    marker=:o,\n",
    "    yflip=true,\n",
    "    label=nothing,\n",
    "    size=(400,400)\n",
    "    )\n",
    "Plots.xlabel!(\"Normalized Averaging Kernel\")\n",
    "Plots.ylabel!(\"Pressure level [$(buf.scene.atmosphere.pressure_unit)]\")"
   ]
  },
  {
   "cell_type": "code",
   "execution_count": null,
   "id": "794a8b1d-c901-4a56-84fd-9bf0ec9fa59c",
   "metadata": {},
   "outputs": [],
   "source": []
  }
 ],
 "metadata": {
  "kernelspec": {
   "display_name": "Julia 1.11.1",
   "language": "julia",
   "name": "julia-1.11"
  },
  "language_info": {
   "file_extension": ".jl",
   "mimetype": "application/julia",
   "name": "julia"
  }
 },
 "nbformat": 4,
 "nbformat_minor": 5
}
