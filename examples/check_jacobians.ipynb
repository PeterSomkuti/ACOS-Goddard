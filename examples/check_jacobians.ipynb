{
 "cells": [
  {
   "cell_type": "markdown",
   "id": "b24c28a6-e23f-4e69-b9c3-8cc148718cba",
   "metadata": {},
   "source": [
    "# Show whether the analytic Jacobians are correct by testing against finite-difference calculations"
   ]
  },
  {
   "cell_type": "code",
   "execution_count": null,
   "id": "46db374e-d6e6-4f15-b464-c4ba21e827ba",
   "metadata": {},
   "outputs": [],
   "source": [
    "cd(\"../\")"
   ]
  },
  {
   "cell_type": "code",
   "execution_count": null,
   "id": "680d71e3-bd28-4070-acd3-b6159fe7dce2",
   "metadata": {},
   "outputs": [],
   "source": [
    "# Let us observe the progress during the RT computations\n",
    "ENV[\"XRTM_PROGRESS\"] = \"1\"\n",
    "\n",
    "# For good font rendering, we suggest installing the \"JuliaMono\" font\n",
    "# which provides full support for the various Unicode glyphs.\n",
    "ENV[\"GKS_FONTPATH\"] = \"~/Library/Fonts/\""
   ]
  },
  {
   "cell_type": "code",
   "execution_count": null,
   "id": "5fb17112-5221-407a-9954-e026bc48c81d",
   "metadata": {},
   "outputs": [],
   "source": [
    "# Load these modules ahead of running the application\n",
    "using Plots, LaTeXStrings\n",
    "gr()"
   ]
  },
  {
   "cell_type": "code",
   "execution_count": null,
   "id": "34f2386f-d5b8-4816-a38a-a902ba485857",
   "metadata": {},
   "outputs": [],
   "source": [
    "Plots.default()\n",
    "\n",
    "Plots.default(\n",
    "    fontfamily = \"JuliaMono-Regular\",\n",
    "    titlefont = (10, \"JuliaMono-Regular\"),\n",
    "    legendfont = (8, \"JuliaMono-Regular\"),\n",
    "    guidefont = (8, \"JuliaMono-Regular\", :black),\n",
    "    tickfont = (8, \"JuliaMono-Regular\", :black),\n",
    "    rightmargin=5Plots.mm,\n",
    "    leftmargin=5Plots.mm,\n",
    "    bottommargin=5Plots.mm\n",
    ")"
   ]
  },
  {
   "cell_type": "code",
   "execution_count": null,
   "id": "9f865bda-ee84-4298-bfda-36e8a5f1077e",
   "metadata": {},
   "outputs": [],
   "source": [
    "# Define command-line arguments\n",
    "\n",
    "# This lets us run with 0 iterations, i.e. just set up, but no forward model run\n",
    "\n",
    "my_args = [\n",
    "    \"--solar_model\", \"./example_data/l2_solar_model.h5\",\n",
    "    \"--L1b\", \"./example_data/2021030111564431_inputs.h5\",\n",
    "    \"--L2Met\", \"./example_data/2021030111564431_inputs.h5\",\n",
    "    \"--L2CPr\", \"./example_data/2021030111564431_inputs.h5\",\n",
    "    \"--sounding_id\", \"2021030111564431\",\n",
    "    \"--spec\", \"1\",\n",
    "    \"--polarized\", \"true\",\n",
    "    \"--aerosols\", \"true\",\n",
    "    \"--retrieve_aerosols\", \"true\",\n",
    "    \"--LSI\", \"true\",\n",
    "    \"--o2_scale\", \"1.0048\",\n",
    "    \"--co2_scale_weak\", \"0.994\",\n",
    "    \"--co2_scale_strong\", \"0.998\",\n",
    "    \"--gamma\", \"1000.0\",\n",
    "    \"--dsigma_scale\", \"2.0\",\n",
    "    \"--max_iterations\", \"0\",\n",
    "    \"--output\", \"2021030111564431.h5\",\n",
    "]\n",
    "\n",
    "# Get rid of existing command line arguments\n",
    "empty!(ARGS)\n",
    "\n",
    "for a in my_args\n",
    "    push!(ARGS, a)\n",
    "end\n",
    "\n",
    "# Run the retrieval and return the Buffer and Solver objects\n",
    "buf, solver, fm_kwargs = include(\"./run.jl\");"
   ]
  },
  {
   "cell_type": "markdown",
   "id": "5819e872-84f7-4230-a7fb-e5141f875b98",
   "metadata": {},
   "source": [
    "## First run: derivatives enabled"
   ]
  },
  {
   "cell_type": "code",
   "execution_count": null,
   "id": "d8c1f86e-7976-4cf8-9bc3-e833a183a17f",
   "metadata": {},
   "outputs": [],
   "source": [
    "# Add \"calc_derivs\" if needed\n",
    "for swin in buf.spectral_window\n",
    "    rt = buf.rt[swin] # Grab the RT object\n",
    "\n",
    "    for mo in rt.model_options\n",
    "        if !(\"calc_derivs\" in mo[\"options\"])\n",
    "           push!(mo[\"options\"], \"calc_derivs\")\n",
    "        end\n",
    "    end\n",
    "    \n",
    "end\n",
    "\n",
    "ENV[\"XRTM_PROGRESS\"] = \"1\";\n",
    "# Run the forward model\n",
    "@time solver.forward_model(solver.state_vector; fm_kwargs...)\n",
    "\n",
    "# Note - this DOES NOT update the state vector; the atmosphere can be mutated, but a correct forward model will restore them to the initial state"
   ]
  },
  {
   "cell_type": "code",
   "execution_count": null,
   "id": "85ec77b2-e3f3-4ff3-9aff-90867d8b9ccf",
   "metadata": {},
   "outputs": [],
   "source": [
    "# Make some number of iterations\n",
    "ENV[\"XRTM_PROGRESS\"] = \"1\";\n",
    "\n",
    "@time next_iteration!(solver; fm_kwargs)\n",
    "@time next_iteration!(solver; fm_kwargs)\n",
    "\n",
    "#@time solver.forward_model(solver.state_vector; fm_kwargs...)\n",
    "calculate_chi2(solver)\n"
   ]
  },
  {
   "cell_type": "code",
   "execution_count": null,
   "id": "41cb1b14-22ef-4d9f-8553-34a8c72f7850",
   "metadata": {},
   "outputs": [],
   "source": [
    "# Store the results from the analytic computation of the Jacobian K, the forward model result is also needed\n",
    "analytic_K = RE.create_K_from_solver(solver);\n",
    "analytic_fm = RE.get_modeled(solver);"
   ]
  },
  {
   "cell_type": "code",
   "execution_count": null,
   "id": "771c8f0c-cf33-4e21-aeb2-e1e2a4e6b02b",
   "metadata": {},
   "outputs": [],
   "source": [
    "logger = ConsoleLogger(stderr, Logging.Error);\n",
    "global_logger(logger);"
   ]
  },
  {
   "cell_type": "code",
   "execution_count": null,
   "id": "08b36156-07db-456b-b36a-6f99833868f9",
   "metadata": {},
   "outputs": [],
   "source": [
    "# To remove the \"calc_deriv\" option that tells XRTM to calculate derivatives.\n",
    "# We don't need derivatives for the next step, and it makes the forward model run significantly faster.\n",
    "\n",
    "for swin in buf.spectral_window\n",
    "    rt = buf.rt[swin] # Grab the RT object\n",
    "\n",
    "    for mo in rt.model_options\n",
    "        filter!(!=(\"calc_derivs\"), mo[\"options\"])\n",
    "    end\n",
    "    \n",
    "end\n",
    "\n",
    "# Let's also make logging less verbose because we don't want to fill up the screen\n",
    "logger = ConsoleLogger(stderr, Logging.Error);\n",
    "global_logger(logger);\n",
    "\n",
    "# And remove the XRTM progress\n",
    "ENV[\"XRTM_PROGRESS\"] = \"0\";"
   ]
  },
  {
   "cell_type": "code",
   "execution_count": null,
   "id": "a4b37ec2-6f5d-478b-8f39-0fedba581c13",
   "metadata": {},
   "outputs": [],
   "source": [
    "SV = solver.state_vector\n",
    "perturbations = zeros(length(SV)) * NaN\n",
    "\n",
    "for (idx, sve) in enumerate(SV.state_vector_elements)\n",
    "\n",
    "    \n",
    "    if sve isa RE.SurfacePressureSVE\n",
    "        perturbations[idx] = ustrip(sve.unit, 1.0u\"Pa\")\n",
    "    end\n",
    "    \n",
    "    if sve isa RE.TemperatureOffsetSVE\n",
    "        perturbations[idx] = 0.1 # this should be in K\n",
    "    end\n",
    "    \n",
    "    if sve isa RE.GasVMRProfileSVE\n",
    "    #    perturbations[idx] = 1.0 # this should be in ppm\n",
    "    end\n",
    "\n",
    "    if sve isa RE.GasLevelScalingFactorSVE\n",
    "        perturbations[idx] = 0.01\n",
    "    end\n",
    "    \n",
    "    if sve isa RE.DispersionPolynomialSVE\n",
    "        perturbations[idx] = 0.000001 * sve.iterations[end]\n",
    "    end\n",
    "    \n",
    "    if sve isa RE.BRDFPolynomialSVE\n",
    "        # Take some fraction of current value\n",
    "        if sve.coefficient_order == 0\n",
    "            perturbations[idx] = 0.01 * sve.iterations[end]\n",
    "        else\n",
    "            perturbations[idx] = 0.01\n",
    "        end\n",
    "    end \n",
    "    \n",
    "    if sve isa RE.AerosolWidthSVE\n",
    "        # Makes aerosols slightly wider\n",
    "        perturbations[idx] = 0.00001 * sve.iterations[end]\n",
    "    end\n",
    "\n",
    "    if sve isa RE.AerosolHeightSVE\n",
    "        # Moves aerosols closer to the surface..\n",
    "        perturbations[idx] = 0.00001 * sve.iterations[end] \n",
    "    end\n",
    "    \n",
    "    if sve isa RE.AerosolOpticalDepthSVE\n",
    "        # These are in log-space! Make them optically denser\n",
    "        perturbations[idx] = 0.00001\n",
    "    end\n",
    "\n",
    "end"
   ]
  },
  {
   "cell_type": "code",
   "execution_count": null,
   "id": "41239fae-a692-46a9-9b82-d39eb9044735",
   "metadata": {},
   "outputs": [],
   "source": [
    "fd_K = similar(analytic_K);\n",
    "fd_K[:] .= NaN;\n",
    "\n",
    "for idx in 1:length(SV)\n",
    "\n",
    "    # Skip SVEs that have no valid perturbations\n",
    "    isnan(perturbations[idx]) && continue\n",
    "    \n",
    "    println(\"Evaluating $(idx) for $(SV.state_vector_elements[idx])\")\n",
    "    # Add a \"fake\" iteration to that state vector, which contains our new perturbed state\n",
    "    for sve in SV.state_vector_elements\n",
    "        # Simply repeat the current value\n",
    "        push!(sve.iterations, sve.iterations[end])\n",
    "    end\n",
    "    \n",
    "    # .. but replace the value for the SVE that we are currently investigating\n",
    "    SV.state_vector_elements[idx].iterations[end] += perturbations[idx]\n",
    "    \n",
    "    # Evaluate the forward model    \n",
    "    @time solver.forward_model(solver.state_vector; fm_kwargs...);\n",
    "    \n",
    "    # The approximate Jacobian is then {F(x + Δx) - F(x)} / Δx\n",
    "    perturbed_fm = RE.get_modeled(solver);\n",
    "    @. fd_K[:,idx] = (perturbed_fm[:] - analytic_fm[:]) / perturbations[idx]\n",
    "    \n",
    "    # Remove the fake iteration!\n",
    "    for sve in SV.state_vector_elements\n",
    "        pop!(sve.iterations)\n",
    "    end\n",
    "\n",
    "    #break\n",
    "end"
   ]
  },
  {
   "cell_type": "code",
   "execution_count": null,
   "id": "b1ea5e39-f492-44a6-bd5f-0f8399655813",
   "metadata": {},
   "outputs": [],
   "source": [
    "for idx in 1:length(perturbations)\n",
    "\n",
    "    isnan(perturbations[idx]) && continue\n",
    "\n",
    "    p1 = Plots.plot(\n",
    "        fd_K[:,idx], \n",
    "        label=\"Δx = $(perturbations[idx]) [$(solver.state_vector.state_vector_elements[idx].unit)]\",\n",
    "        linewidth=2., size=(800, 500)\n",
    "    )\n",
    "    Plots.plot!(analytic_K[:,idx], label=\"Analytic\", linestyle=:dash)\n",
    "    Plots.title!(\"$(SV.state_vector_elements[idx])\")\n",
    "\n",
    "    resid = @. (analytic_K[:,idx] - fd_K[:,idx])\n",
    "    #resid_rel = @. 100 * (analytic_K[:,idx] - fd_K[:,idx]) / maximum(abs.(fd_K[:,idx]))\n",
    "\n",
    "    rrms = sqrt(mean(resid .^ 2))\n",
    "\n",
    "    p2 = Plots.plot(resid, label=\"Difference (analytic - FD)\", linewidth=1., size=(800, 500))\n",
    "    Plots.title!(@sprintf \"RMS = %.4e \" rrms)\n",
    "\n",
    "    disp_plot = plot(p1, p2, layout=(2, 1))\n",
    "    display(disp_plot)\n",
    "\n",
    "end"
   ]
  },
  {
   "cell_type": "code",
   "execution_count": null,
   "id": "9e7a0f96-eff9-46b8-93e5-ba36f91f3eee",
   "metadata": {},
   "outputs": [],
   "source": []
  },
  {
   "cell_type": "code",
   "execution_count": null,
   "id": "5388bbfc-3bc1-401e-b3c3-e292fe06197b",
   "metadata": {},
   "outputs": [],
   "source": []
  }
 ],
 "metadata": {
  "kernelspec": {
   "display_name": "Julia 1.11.1",
   "language": "julia",
   "name": "julia-1.11"
  },
  "language_info": {
   "file_extension": ".jl",
   "mimetype": "application/julia",
   "name": "julia"
  }
 },
 "nbformat": 4,
 "nbformat_minor": 5
}
